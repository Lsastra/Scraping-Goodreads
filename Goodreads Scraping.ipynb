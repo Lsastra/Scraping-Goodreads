{
 "cells": [
  {
   "cell_type": "code",
   "execution_count": null,
   "metadata": {},
   "outputs": [],
   "source": [
    "import time\n",
    "import re\n",
    "import pandas as pd\n",
    "\n",
    "from selenium import webdriver\n",
    "from selenium.webdriver.common.keys import Keys\n",
    "from selenium.webdriver.support import expected_conditions as EC\n",
    "from selenium.webdriver.support.ui import WebDriverWait\n",
    "from selenium.common.exceptions import TimeoutException\n",
    "from selenium.webdriver.common.by import By\n",
    "\n",
    "from tqdm import tqdm"
   ]
  },
  {
   "cell_type": "code",
   "execution_count": null,
   "metadata": {},
   "outputs": [],
   "source": [
    "page_url = \"https://www.goodreads.com/list/show/567.Best_Chapter_Books_to_Read_Out_Loud\" #our link target\n",
    "driver = webdriver.Chrome() #Our internet \n",
    "driver.get(page_url)"
   ]
  },
  {
   "cell_type": "markdown",
   "metadata": {},
   "source": [
    "# 1. Scrap Google Trend (Winata Syahputra)"
   ]
  },
  {
   "cell_type": "code",
   "execution_count": null,
   "metadata": {},
   "outputs": [],
   "source": [
    "v_title = driver.find_elements_by_class_name('bookTitle')\n",
    "v_author = driver.find_elements_by_class_name('authorName')\n",
    "v_rating = driver.find_elements_by_class_name('minirating')\n",
    "v_vote = driver.find_elements_by_xpath('//*[@class=\"smallText uitext\"]')\n",
    "v_number = driver.find_elements_by_class_name('number')"
   ]
  },
  {
   "cell_type": "markdown",
   "metadata": {},
   "source": [
    "#v_vote2 = driver.find_elements_by_class_name('smallText uitext') kenapa disini error (Isinya kosong)"
   ]
  },
  {
   "cell_type": "code",
   "execution_count": null,
   "metadata": {},
   "outputs": [],
   "source": [
    "title = []\n",
    "author = []\n",
    "rating = []\n",
    "vote = []\n",
    "number = []\n",
    "\n",
    "number_of_items=len(v_title)\n",
    "for book in tqdm (range(number_of_items)):\n",
    "    title.append(str(v_title[book].text))\n",
    "    author.append(str(v_author[book].text))\n",
    "    rating.append(str(v_rating[book].text))\n",
    "    vote.append(str(v_vote[book].text))\n",
    "    number.append(int(v_number[book].text))"
   ]
  },
  {
   "cell_type": "markdown",
   "metadata": {},
   "source": [
    "# 2. Data Wrangling"
   ]
  },
  {
   "cell_type": "code",
   "execution_count": null,
   "metadata": {},
   "outputs": [],
   "source": [
    "goodread_data = pd.DataFrame(set(zip(number,title, author, rating, vote)))\n",
    "goodread_data.columns = [\"number\",\"Title\", \"Author\", \"Rating\", \"Vote\"]"
   ]
  },
  {
   "cell_type": "code",
   "execution_count": null,
   "metadata": {},
   "outputs": [],
   "source": [
    "goodread_data = goodread_data.sort_values(['number'])"
   ]
  },
  {
   "cell_type": "code",
   "execution_count": 23,
   "metadata": {},
   "outputs": [
    {
     "data": {
      "text/html": [
       "<div>\n",
       "<style scoped>\n",
       "    .dataframe tbody tr th:only-of-type {\n",
       "        vertical-align: middle;\n",
       "    }\n",
       "\n",
       "    .dataframe tbody tr th {\n",
       "        vertical-align: top;\n",
       "    }\n",
       "\n",
       "    .dataframe thead th {\n",
       "        text-align: right;\n",
       "    }\n",
       "</style>\n",
       "<table border=\"1\" class=\"dataframe\">\n",
       "  <thead>\n",
       "    <tr style=\"text-align: right;\">\n",
       "      <th></th>\n",
       "      <th>number</th>\n",
       "      <th>Title</th>\n",
       "      <th>Author</th>\n",
       "      <th>Rating</th>\n",
       "      <th>Vote</th>\n",
       "    </tr>\n",
       "  </thead>\n",
       "  <tbody>\n",
       "    <tr>\n",
       "      <th>13</th>\n",
       "      <td>1</td>\n",
       "      <td>Harry Potter and the Sorcerer's Stone (Harry P...</td>\n",
       "      <td>J.K. Rowling</td>\n",
       "      <td>4.47 avg rating — 6,360,202 ratings</td>\n",
       "      <td>score: 29,949, and 302 people voted</td>\n",
       "    </tr>\n",
       "    <tr>\n",
       "      <th>93</th>\n",
       "      <td>2</td>\n",
       "      <td>The Chronicles of Narnia (Chronicles of Narnia...</td>\n",
       "      <td>C.S. Lewis</td>\n",
       "      <td>4.26 avg rating — 476,453 ratings</td>\n",
       "      <td>score: 19,170, and 195 people voted</td>\n",
       "    </tr>\n",
       "    <tr>\n",
       "      <th>80</th>\n",
       "      <td>3</td>\n",
       "      <td>Charlotte's Web</td>\n",
       "      <td>E.B. White</td>\n",
       "      <td>4.17 avg rating — 1,313,661 ratings</td>\n",
       "      <td>score: 14,912, and 153 people voted</td>\n",
       "    </tr>\n",
       "    <tr>\n",
       "      <th>72</th>\n",
       "      <td>4</td>\n",
       "      <td>Matilda</td>\n",
       "      <td>Roald Dahl</td>\n",
       "      <td>4.31 avg rating — 562,829 ratings</td>\n",
       "      <td>score: 13,547, and 140 people voted</td>\n",
       "    </tr>\n",
       "    <tr>\n",
       "      <th>33</th>\n",
       "      <td>5</td>\n",
       "      <td>The Land: Founding (Chaos Seeds, #1)</td>\n",
       "      <td>Aleron Kong</td>\n",
       "      <td>4.23 avg rating — 15,933 ratings</td>\n",
       "      <td>score: 11,983, and 120 people voted</td>\n",
       "    </tr>\n",
       "    <tr>\n",
       "      <th>...</th>\n",
       "      <td>...</td>\n",
       "      <td>...</td>\n",
       "      <td>...</td>\n",
       "      <td>...</td>\n",
       "      <td>...</td>\n",
       "    </tr>\n",
       "    <tr>\n",
       "      <th>48</th>\n",
       "      <td>96</td>\n",
       "      <td>A Little Princess</td>\n",
       "      <td>Frances Hodgson Burnett</td>\n",
       "      <td>4.20 avg rating — 258,228 ratings</td>\n",
       "      <td>score: 797, and 11 people voted</td>\n",
       "    </tr>\n",
       "    <tr>\n",
       "      <th>44</th>\n",
       "      <td>97</td>\n",
       "      <td>Mr. Popper's Penguins</td>\n",
       "      <td>Richard Atwater</td>\n",
       "      <td>3.97 avg rating — 60,043 ratings</td>\n",
       "      <td>score: 794, and 9 people voted</td>\n",
       "    </tr>\n",
       "    <tr>\n",
       "      <th>97</th>\n",
       "      <td>98</td>\n",
       "      <td>The Tale of Mrs. Tiggy-Winkle</td>\n",
       "      <td>Beatrix Potter</td>\n",
       "      <td>4.20 avg rating — 14,475 ratings</td>\n",
       "      <td>score: 722, and 10 people voted</td>\n",
       "    </tr>\n",
       "    <tr>\n",
       "      <th>30</th>\n",
       "      <td>99</td>\n",
       "      <td>The Wee Free Men (Discworld, #30; Tiffany Achi...</td>\n",
       "      <td>Terry Pratchett</td>\n",
       "      <td>4.27 avg rating — 87,312 ratings</td>\n",
       "      <td>score: 686, and 8 people voted</td>\n",
       "    </tr>\n",
       "    <tr>\n",
       "      <th>24</th>\n",
       "      <td>100</td>\n",
       "      <td>The Dragons of Blueland (My Father's Dragon, #3)</td>\n",
       "      <td>Ruth Stiles Gannett</td>\n",
       "      <td>4.12 avg rating — 3,645 ratings</td>\n",
       "      <td>score: 662, and 7 people voted</td>\n",
       "    </tr>\n",
       "  </tbody>\n",
       "</table>\n",
       "<p>100 rows × 5 columns</p>\n",
       "</div>"
      ],
      "text/plain": [
       "    number                                              Title  \\\n",
       "13       1  Harry Potter and the Sorcerer's Stone (Harry P...   \n",
       "93       2  The Chronicles of Narnia (Chronicles of Narnia...   \n",
       "80       3                                    Charlotte's Web   \n",
       "72       4                                            Matilda   \n",
       "33       5               The Land: Founding (Chaos Seeds, #1)   \n",
       "..     ...                                                ...   \n",
       "48      96                                  A Little Princess   \n",
       "44      97                              Mr. Popper's Penguins   \n",
       "97      98                      The Tale of Mrs. Tiggy-Winkle   \n",
       "30      99  The Wee Free Men (Discworld, #30; Tiffany Achi...   \n",
       "24     100   The Dragons of Blueland (My Father's Dragon, #3)   \n",
       "\n",
       "                     Author                               Rating  \\\n",
       "13             J.K. Rowling  4.47 avg rating — 6,360,202 ratings   \n",
       "93               C.S. Lewis    4.26 avg rating — 476,453 ratings   \n",
       "80               E.B. White  4.17 avg rating — 1,313,661 ratings   \n",
       "72               Roald Dahl    4.31 avg rating — 562,829 ratings   \n",
       "33              Aleron Kong     4.23 avg rating — 15,933 ratings   \n",
       "..                      ...                                  ...   \n",
       "48  Frances Hodgson Burnett    4.20 avg rating — 258,228 ratings   \n",
       "44          Richard Atwater     3.97 avg rating — 60,043 ratings   \n",
       "97           Beatrix Potter     4.20 avg rating — 14,475 ratings   \n",
       "30          Terry Pratchett     4.27 avg rating — 87,312 ratings   \n",
       "24      Ruth Stiles Gannett      4.12 avg rating — 3,645 ratings   \n",
       "\n",
       "                                   Vote  \n",
       "13  score: 29,949, and 302 people voted  \n",
       "93  score: 19,170, and 195 people voted  \n",
       "80  score: 14,912, and 153 people voted  \n",
       "72  score: 13,547, and 140 people voted  \n",
       "33  score: 11,983, and 120 people voted  \n",
       "..                                  ...  \n",
       "48      score: 797, and 11 people voted  \n",
       "44       score: 794, and 9 people voted  \n",
       "97      score: 722, and 10 people voted  \n",
       "30       score: 686, and 8 people voted  \n",
       "24       score: 662, and 7 people voted  \n",
       "\n",
       "[100 rows x 5 columns]"
      ]
     },
     "execution_count": 23,
     "metadata": {},
     "output_type": "execute_result"
    }
   ],
   "source": [
    "goodread_data"
   ]
  }
 ],
 "metadata": {
  "kernelspec": {
   "display_name": "Python 3",
   "language": "python",
   "name": "python3"
  },
  "language_info": {
   "codemirror_mode": {
    "name": "ipython",
    "version": 3
   },
   "file_extension": ".py",
   "mimetype": "text/x-python",
   "name": "python",
   "nbconvert_exporter": "python",
   "pygments_lexer": "ipython3",
   "version": "3.7.1"
  }
 },
 "nbformat": 4,
 "nbformat_minor": 2
}
